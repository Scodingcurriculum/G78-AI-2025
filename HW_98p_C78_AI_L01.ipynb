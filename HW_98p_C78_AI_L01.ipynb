{
  "nbformat": 4,
  "nbformat_minor": 0,
  "metadata": {
    "colab": {
      "provenance": [],
      "include_colab_link": true
    },
    "kernelspec": {
      "name": "python3",
      "display_name": "Python 3"
    },
    "language_info": {
      "name": "python"
    }
  },
  "cells": [
    {
      "cell_type": "markdown",
      "metadata": {
        "id": "view-in-github",
        "colab_type": "text"
      },
      "source": [
        "<a href=\"https://colab.research.google.com/github/Scodingcurriculum/G78-AI-2025/blob/main/HW_98p_C78_AI_L01.ipynb\" target=\"_parent\"><img src=\"https://colab.research.google.com/assets/colab-badge.svg\" alt=\"Open In Colab\"/></a>"
      ]
    },
    {
      "cell_type": "code",
      "execution_count": null,
      "metadata": {
        "id": "Mch860YHG4p6"
      },
      "outputs": [],
      "source": [
        "# ============================================================================\n",
        "# Lesson 1 Homework: Hello AI Timeline\n",
        "# Description:\n",
        "#   Create a timeline of 5 future personal goals using only print().\n",
        "# AI Justification:\n",
        "#   Mimics how AI systems organize and display chronological information.\n",
        "# ----------------------------------------------------------------------------\n",
        "# Instructions for students:\n",
        "# 1. Read each comment carefully.\n",
        "# 2. Replace the placeholder goals/years below with YOUR own.\n",
        "# 3. Notice how tabs (\\t) and newlines (\\n) control alignment.\n",
        "# 4. Run the script, then modify spacing as desired to practice formatting.\n",
        "# ============================================================================\n",
        "\n",
        "# Print a decorative header\n",
        "print(\"=\" * 60)\n",
        "print(\"|||        My Personalized AI Timeline         |||\")\n",
        "print(\"=\" * 60 + \"\\n\")\n",
        "\n",
        "# === Define 5 future goals ===\n",
        "# Each goal has a year and a description.\n",
        "# You can change these variables to reflect YOUR ambitions.\n",
        "goal1 = \"Master Python basics\"            # e.g., \"Learn to draw cartoons\"\n",
        "year1 = \"2026\"                            # e.g., \"2025\"\n",
        "\n",
        "goal2 = \"Build a simple AI quiz game\"\n",
        "year2 = \"2027\"\n",
        "\n",
        "goal3 = \"Participate in a national hackathon\"\n",
        "year3 = \"2028\"\n",
        "\n",
        "goal4 = \"Teach Python to my classmates\"\n",
        "year4 = \"2029\"\n",
        "\n",
        "goal5 = \"Develop an AI-powered assistant prototype\"\n",
        "year5 = \"2030\"\n",
        "\n",
        "# === Print each timeline entry ===\n",
        "# f-strings let us embed variables directly inside strings.\n",
        "print(f\"{year1}:\\t{goal1}\")\n",
        "print(f\"{year2}:\\t{goal2}\")\n",
        "print(f\"{year3}:\\t{goal3}\")\n",
        "print(f\"{year4}:\\t{goal4}\")\n",
        "print(f\"{year5}:\\t{goal5}\\n\")\n",
        "\n",
        "# === Footer ===\n",
        "print(\"=\" * 60)\n",
        "print(\"          End of Timeline — Keep dreaming big!          \")\n",
        "print(\"=\" * 60)\n"
      ]
    }
  ]
}