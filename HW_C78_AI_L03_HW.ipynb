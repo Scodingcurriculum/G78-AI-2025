{
  "nbformat": 4,
  "nbformat_minor": 0,
  "metadata": {
    "colab": {
      "provenance": [],
      "include_colab_link": true
    },
    "kernelspec": {
      "name": "python3",
      "display_name": "Python 3"
    },
    "language_info": {
      "name": "python"
    }
  },
  "cells": [
    {
      "cell_type": "markdown",
      "metadata": {
        "id": "view-in-github",
        "colab_type": "text"
      },
      "source": [
        "<a href=\"https://colab.research.google.com/github/Scodingcurriculum/G78-AI-2025/blob/main/HW_C78_AI_L03_HW.ipynb\" target=\"_parent\"><img src=\"https://colab.research.google.com/assets/colab-badge.svg\" alt=\"Open In Colab\"/></a>"
      ]
    },
    {
      "cell_type": "code",
      "execution_count": null,
      "metadata": {
        "id": "6cKi_J71HV-v"
      },
      "outputs": [],
      "source": [
        "# ============================================================================\n",
        "# Lesson 3 Homework: Skill Booster Predictor\n",
        "# Description:\n",
        "#   Estimate how many days it will take to reach 100% proficiency in a skill.\n",
        "# AI Justification:\n",
        "#   Simulates AI predictions by using simple math on user data.\n",
        "# ----------------------------------------------------------------------------\n",
        "# Instructions for students:\n",
        "# 1. Observe how we convert input strings to numbers.\n",
        "# 2. Follow each calculation step.\n",
        "# 3. Change variables and re-run to see different results.\n",
        "# ============================================================================\n",
        "\n",
        "# === Inputs ===\n",
        "skill = input(\"What skill would you like to master? \").strip().title()\n",
        "current_str = input(\"Your current proficiency (0–100%): \").strip()\n",
        "per_day_str = input(\"Hours per day you can practice: \").strip()\n",
        "\n",
        "# === Convert inputs to numeric types ===\n",
        "current_perc = float(current_str)    # Turn text into a decimal number\n",
        "hours_per_day = float(per_day_str)\n",
        "\n",
        "# === Calculate remaining effort ===\n",
        "remaining_perc = 100.0 - current_perc  # Percentage left to learn\n",
        "# AI-like estimate: assume 1% progress per hour practiced\n",
        "hours_needed = remaining_perc          # hours\n",
        "days_needed = hours_needed / hours_per_day\n",
        "\n",
        "# === Output results with f-strings ===\n",
        "print(\"\\n=== Prediction Results ===\")\n",
        "print(f\"Skill:\\t\\t{skill}\")\n",
        "print(f\"Current %:\\t{current_perc:.1f}%\")\n",
        "print(f\"Daily h:\\t{hours_per_day:.1f} h/day\")\n",
        "print(f\"Hours needed:\\t{hours_needed:.1f} hours\")\n",
        "print(f\"Days needed:\\t{days_needed:.1f} days\")\n",
        "\n",
        "print(\"\\n[AI Insight] Based on your input, AI predicts your learning timeline.\")\n"
      ]
    }
  ]
}