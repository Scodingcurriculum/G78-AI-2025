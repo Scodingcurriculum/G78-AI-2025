{
  "nbformat": 4,
  "nbformat_minor": 0,
  "metadata": {
    "colab": {
      "provenance": [],
      "include_colab_link": true
    },
    "kernelspec": {
      "name": "python3",
      "display_name": "Python 3"
    },
    "language_info": {
      "name": "python"
    }
  },
  "cells": [
    {
      "cell_type": "markdown",
      "metadata": {
        "id": "view-in-github",
        "colab_type": "text"
      },
      "source": [
        "<a href=\"https://colab.research.google.com/github/Scodingcurriculum/G78-AI-2025/blob/main/HW_98p_C78_AI_L19.ipynb\" target=\"_parent\"><img src=\"https://colab.research.google.com/assets/colab-badge.svg\" alt=\"Open In Colab\"/></a>"
      ]
    },
    {
      "cell_type": "code",
      "execution_count": null,
      "metadata": {
        "id": "1r0NcfXnLH_K"
      },
      "outputs": [],
      "source": [
        "# ============================================================================\n",
        "# Lesson 19 Homework: Model Training\n",
        "# Description:\n",
        "#   Build a simple text classifier: vectorize input texts,\n",
        "#   train LogisticRegression, and report training time & classes.\n",
        "# AI Justification:\n",
        "#   Shows the core AI workflow: feature extraction → model fitting → insight.\n",
        "# ----------------------------------------------------------------------------\n",
        "# Steps:\n",
        "# 1. Enter number of samples; input each text and its label.\n",
        "# 2. Vectorize texts with TF-IDF.\n",
        "# 3. Train a LogisticRegression model while timing the process.\n",
        "# 4. Print the elapsed time and the model's learned classes.\n",
        "# ============================================================================\n",
        "\n",
        "import time\n",
        "from sklearn.feature_extraction.text import TfidfVectorizer\n",
        "from sklearn.linear_model import LogisticRegression\n",
        "\n",
        "# 1) Gather data\n",
        "m = int(input(\"Number of training samples: \").strip())\n",
        "texts = []\n",
        "labels = []\n",
        "for i in range(1, m+1):\n",
        "    txt = input(f\"Text {i}: \").strip()\n",
        "    lbl = input(f\"Label for Text {i}: \").strip()\n",
        "    texts.append(txt)\n",
        "    labels.append(lbl)\n",
        "\n",
        "# 2) Feature extraction\n",
        "vectorizer = TfidfVectorizer()\n",
        "X = vectorizer.fit_transform(texts)\n",
        "\n",
        "# 3) Model training with timing\n",
        "model = LogisticRegression(max_iter=200)\n",
        "start = time.time()\n",
        "model.fit(X, labels)\n",
        "end = time.time()\n",
        "train_time = end - start\n",
        "\n",
        "# 4) Report results\n",
        "print(f\"\\nTraining completed in {train_time:.3f} seconds.\")\n",
        "print(f\"Model classes: {model.classes_}\")\n",
        "\n",
        "print(\"\\n[AI Insight] Training time reflects model complexity and data size.\")\n"
      ]
    }
  ]
}