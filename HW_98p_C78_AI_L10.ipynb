{
  "nbformat": 4,
  "nbformat_minor": 0,
  "metadata": {
    "colab": {
      "provenance": [],
      "include_colab_link": true
    },
    "kernelspec": {
      "name": "python3",
      "display_name": "Python 3"
    },
    "language_info": {
      "name": "python"
    }
  },
  "cells": [
    {
      "cell_type": "markdown",
      "metadata": {
        "id": "view-in-github",
        "colab_type": "text"
      },
      "source": [
        "<a href=\"https://colab.research.google.com/github/Scodingcurriculum/G78-AI-2025/blob/main/HW_98p_C78_AI_L10.ipynb\" target=\"_parent\"><img src=\"https://colab.research.google.com/assets/colab-badge.svg\" alt=\"Open In Colab\"/></a>"
      ]
    },
    {
      "cell_type": "code",
      "execution_count": null,
      "metadata": {
        "id": "cEHmpT-8JIYP"
      },
      "outputs": [],
      "source": [
        "# ============================================================================\n",
        "# Lesson 10 Homework: AI Chemistry Predictor (Part 1)\n",
        "# Description:\n",
        "#   Predict reaction output when combining two chemicals using a lookup dictionary.\n",
        "# AI Justification:\n",
        "#   Demonstrates how AI uses knowledge bases (here, a dictionary) to make predictions.\n",
        "# ----------------------------------------------------------------------------\n",
        "# Instructions:\n",
        "# 1. Review the available chemicals listed below.\n",
        "# 2. Input two chemicals by name.\n",
        "# 3. The program will predict their reaction.\n",
        "# ============================================================================\n",
        "\n",
        "# 1. Define reaction dictionary\n",
        "# Keys are tuples of chemical names; values are predicted products.\n",
        "reactions = {\n",
        "    (\"acid\", \"base\"): \"Salt and water\",\n",
        "    (\"metal\", \"oxygen\"): \"Metal oxide\",\n",
        "    (\"acid\", \"metal\"): \"Salt and hydrogen gas\",\n",
        "    (\"alkali\", \"acid\"): \"Salt and water\"\n",
        "}\n",
        "\n",
        "# 2. Display available chemicals\n",
        "print(\"Available chemicals:\")\n",
        "chem_set = set([chem for pair in reactions.keys() for chem in pair])\n",
        "for chem in sorted(chem_set):\n",
        "    print(f\" - {chem}\")\n",
        "\n",
        "print()  # blank line\n",
        "\n",
        "# 3. Get user inputs\n",
        "chem1 = input(\"Enter first chemical: \").strip().lower()\n",
        "chem2 = input(\"Enter second chemical: \").strip().lower()\n",
        "print()\n",
        "\n",
        "# 4. Predict reaction\n",
        "if (chem1, chem2) in reactions:\n",
        "    product = reactions[(chem1, chem2)]\n",
        "elif (chem2, chem1) in reactions:\n",
        "    product = reactions[(chem2, chem1)]\n",
        "else:\n",
        "    product = \"No known reaction for this combination.\"\n",
        "\n",
        "# 5. Output prediction\n",
        "print(\"=== Reaction Prediction ===\")\n",
        "print(f\"Mixing '{chem1}' + '{chem2}' → {product}\")\n",
        "print(\"\\n[AI Insight] Knowledge bases allow AI to predict outcomes from known patterns.\")\n"
      ]
    }
  ]
}