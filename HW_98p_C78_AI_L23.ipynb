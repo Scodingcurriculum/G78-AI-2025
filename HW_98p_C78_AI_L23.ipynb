{
  "nbformat": 4,
  "nbformat_minor": 0,
  "metadata": {
    "colab": {
      "provenance": [],
      "include_colab_link": true
    },
    "kernelspec": {
      "name": "python3",
      "display_name": "Python 3"
    },
    "language_info": {
      "name": "python"
    }
  },
  "cells": [
    {
      "cell_type": "markdown",
      "metadata": {
        "id": "view-in-github",
        "colab_type": "text"
      },
      "source": [
        "<a href=\"https://colab.research.google.com/github/Scodingcurriculum/G78-AI-2025/blob/main/HW_98p_C78_AI_L23.ipynb\" target=\"_parent\"><img src=\"https://colab.research.google.com/assets/colab-badge.svg\" alt=\"Open In Colab\"/></a>"
      ]
    },
    {
      "cell_type": "code",
      "execution_count": null,
      "metadata": {
        "id": "vZW_ien2NmFs"
      },
      "outputs": [],
      "source": [
        "# ============================================================================\n",
        "# Lesson 23 Homework: Pipeline Creation & Prediction\n",
        "# Description:\n",
        "#   Build a scikit-learn Pipeline chaining TF-IDF vectorization and LogisticRegression,\n",
        "#   train it on user data, display pipeline steps, and predict multiple new sentences.\n",
        "# AI Justification:\n",
        "#   Demonstrates how AI workflows combine preprocessing and modeling into one repeatable unit.\n",
        "# ----------------------------------------------------------------------------\n",
        "# Steps for students:\n",
        "#  1. Provide at least 4 text-label pairs.\n",
        "#  2. Construct a Pipeline with two steps.\n",
        "#  3. Train the pipeline end-to-end.\n",
        "#  4. View the pipeline’s named steps.\n",
        "#  5. Classify two new sentences of your choice.\n",
        "# ============================================================================\n",
        "\n",
        "from sklearn.pipeline import Pipeline\n",
        "from sklearn.feature_extraction.text import TfidfVectorizer\n",
        "from sklearn.linear_model import LogisticRegression\n",
        "\n",
        "print(\"\\n=== Lesson 23: Pipeline Creation & Prediction ===\\n\")\n",
        "\n",
        "# 1) Input count for training examples\n",
        "p = int(input(\"How many training examples? (min 4): \").strip())\n",
        "\n",
        "# 2) Collect training data\n",
        "texts_p = []\n",
        "labels_p = []\n",
        "for i in range(1, p+1):\n",
        "    txt = input(f\"Example #{i} text: \").strip()\n",
        "    lbl = input(f\"Example #{i} label: \").strip()\n",
        "    texts_p.append(txt)\n",
        "    labels_p.append(lbl)\n",
        "    print()\n",
        "\n",
        "# 3) Build the pipeline\n",
        "pipeline = Pipeline([\n",
        "    (\"tfidf\", TfidfVectorizer()),\n",
        "    (\"clf\",   LogisticRegression(max_iter=200))\n",
        "])\n",
        "\n",
        "print(\"Fitting the pipeline to your data...\")\n",
        "pipeline.fit(texts_p, labels_p)\n",
        "\n",
        "# 4) Display pipeline structure\n",
        "print(\"\\nPipeline steps:\")\n",
        "for name, step in pipeline.named_steps.items():\n",
        "    print(f\" • {name}: {step}\")\n",
        "\n",
        "# 5) Predict on new sentences\n",
        "for j in range(1, 3):\n",
        "    new_s = input(f\"\\nEnter new sentence #{j} to classify: \").strip()\n",
        "    pred = pipeline.predict([new_s])[0]\n",
        "    print(f\" → Predicted label: {pred}\")\n",
        "\n",
        "print(\"\\n[AI Insight] Pipelines automate the full flow from raw text to predictions.\")\n"
      ]
    }
  ]
}