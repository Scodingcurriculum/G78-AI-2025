{
  "nbformat": 4,
  "nbformat_minor": 0,
  "metadata": {
    "colab": {
      "provenance": [],
      "include_colab_link": true
    },
    "kernelspec": {
      "name": "python3",
      "display_name": "Python 3"
    },
    "language_info": {
      "name": "python"
    }
  },
  "cells": [
    {
      "cell_type": "markdown",
      "metadata": {
        "id": "view-in-github",
        "colab_type": "text"
      },
      "source": [
        "<a href=\"https://colab.research.google.com/github/Scodingcurriculum/G78-AI-2025/blob/main/HW_98p_C78_AI_L14.ipynb\" target=\"_parent\"><img src=\"https://colab.research.google.com/assets/colab-badge.svg\" alt=\"Open In Colab\"/></a>"
      ]
    },
    {
      "cell_type": "code",
      "execution_count": null,
      "metadata": {
        "id": "lz4poKsWKEyE"
      },
      "outputs": [],
      "source": [
        "\n",
        "# ============================================================================\n",
        "# Lesson 14 Homework: Quiz Function Builder\n",
        "# Description:\n",
        "#   Write and use a function to ask quiz questions with feedback.\n",
        "# AI Justification:\n",
        "#   Illustrates how AI modules encapsulate logic for reusability.\n",
        "# ----------------------------------------------------------------------------\n",
        "# Instructions for students:\n",
        "# 1. Define a function ask_question(prompt, answer).\n",
        "# 2. Function asks the prompt and returns True/False.\n",
        "# 3. Call it for 3 questions and tally correct answers.\n",
        "# ============================================================================\n",
        "\n",
        "# Step 1: Define the quiz function\n",
        "def ask_question(prompt, correct_answer):\n",
        "    \"\"\"\n",
        "    Displays a prompt, reads user input, and returns True if correct.\n",
        "    Uses .strip() and .lower() for robust comparison.\n",
        "    \"\"\"\n",
        "    response = input(prompt + \" \").strip().lower()\n",
        "    return response == correct_answer.lower()\n",
        "\n",
        "# Step 2: Use the function for 3 questions\n",
        "score = 0\n",
        "print(\"=== Quick AI Quiz ===\")\n",
        "\n",
        "if ask_question(\"What does CPU stand for?\", \"central processing unit\"):\n",
        "    print(\"✅ Correct!\")\n",
        "    score += 1\n",
        "else:\n",
        "    print(\"❌ Incorrect.\")\n",
        "\n",
        "if ask_question(\"Which keyword starts a loop in Python?\", \"for\"):\n",
        "    print(\"✅ Correct!\")\n",
        "    score += 1\n",
        "else:\n",
        "    print(\"❌ Incorrect.\")\n",
        "\n",
        "if ask_question(\"True or False: Python lists are mutable?\", \"true\"):\n",
        "    print(\"✅ Correct!\")\n",
        "    score += 1\n",
        "else:\n",
        "    print(\"❌ Incorrect.\")\n",
        "\n",
        "# Step 3: Show final score\n",
        "print(f\"\\nYour total score: {score} out of 3\")\n",
        "print(\"[AI Insight] Functions let AI code reuse logic without repetition.\")\n",
        "\n"
      ]
    }
  ]
}