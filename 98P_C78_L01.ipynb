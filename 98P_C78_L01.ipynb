{
  "nbformat": 4,
  "nbformat_minor": 0,
  "metadata": {
    "colab": {
      "provenance": [],
      "include_colab_link": true
    },
    "kernelspec": {
      "name": "python3",
      "display_name": "Python 3"
    },
    "language_info": {
      "name": "python"
    }
  },
  "cells": [
    {
      "cell_type": "markdown",
      "metadata": {
        "id": "view-in-github",
        "colab_type": "text"
      },
      "source": [
        "<a href=\"https://colab.research.google.com/github/Scodingcurriculum/G78-AI-2025/blob/main/98P_C78_L01.ipynb\" target=\"_parent\"><img src=\"https://colab.research.google.com/assets/colab-badge.svg\" alt=\"Open In Colab\"/></a>"
      ]
    },
    {
      "cell_type": "code",
      "execution_count": null,
      "metadata": {
        "id": "T52iuiw2oPtZ"
      },
      "outputs": [],
      "source": [
        "# =====================================\n",
        "# Lesson 1: Hello AI Timeline\n",
        "# =====================================\n",
        "\n",
        "# 🧠 AI Concept:\n",
        "# This program simulates an AI assistant that teaches the user about\n",
        "# the history of Artificial Intelligence. The assistant prints a\n",
        "# formatted timeline, just like how AI chatbots share structured facts.\n",
        "\n",
        "# =========================\n",
        "# Section 1: Introduction\n",
        "# =========================\n",
        "\n",
        "print(\"=================================================\")    # Decorative separator\n",
        "print(\"🤖 Welcome to the AI Timeline Viewer!\")         # Greeting header\n",
        "print(\"Let's explore key milestones in the journey of Artificial Intelligence.\")\n",
        "print(\"=================================================\\n\")    # End of header block\n",
        "\n",
        "# =========================\n",
        "# Section 2: Display Timeline\n",
        "# =========================\n",
        "\n",
        "print(\"🕰️ Timeline of Major AI Events:\\n\")               # Section title\n",
        "print(\"Year\\t\\tMilestone\")                              # Column headers\n",
        "print(\"----\\t\\t---------\")                              # Underline\n",
        "print(\"1950\\t\\tTuring Test proposed by Alan Turing\")    # Milestone 1\n",
        "print(\"1966\\t\\tELIZA: First chatbot created by Joseph Weizenbaum\")\n",
        "print(\"1997\\t\\tIBM Deep Blue defeats chess champion Garry Kasparov\")\n",
        "print(\"2011\\t\\tIBM Watson wins Jeopardy! quiz show\")\n",
        "print(\"2016\\t\\tAlphaGo defeats world Go champion Lee Sedol\")\n",
        "print(\"2022\\t\\tChatGPT launched by OpenAI, revolutionizing conversations\\n\")\n",
        "\n",
        "# =========================\n",
        "# Section 3: Use Print Formatting\n",
        "# =========================\n",
        "\n",
        "print(\"⭐ AI has come a long way.\\nDid you know?\")       # Demonstrate newline\n",
        "print(\"Many scientists call AI \\\"the new electricity\\\" for the 21st century.\\n\")\n",
        "\n",
        "# =========================\n",
        "# Section 4: Summary Block\n",
        "# =========================\n",
        "\n",
        "print(\"=\" * 50)                                        # Divider\n",
        "print(\"📌 Summary of What You Learned:\")\n",
        "print(\"- Used the print() function to display messages.\")\n",
        "print(\"- Aligned output using \\\\t (tab).\")\n",
        "print(\"- Added new lines using \\\\n.\")\n",
        "print(\"- Learned about major AI milestones.\\n\")\n",
        "print(\"=\" * 50)\n",
        "\n",
        "# ===========================================\n",
        "# Additional Activity: Future AI Prediction\n",
        "# ===========================================\n",
        "\n",
        "# Define the future event and its year using variables\n",
        "future_event = \"Quantum AI\"           # Name of the predicted AI milestone\n",
        "future_year  = 2030                   # Year when it is expected\n",
        "\n",
        "# Section title for the additional activity\n",
        "print(\"\\n🔮 Additional Activity: Predict the Future of AI\\n\")\n",
        "\n",
        "# Display a small table header to align with timeline formatting\n",
        "print(\"Year\\t\\tPrediction\")\n",
        "print(\"----\\t\\t----------\")\n",
        "\n",
        "# Use an f-string to dynamically format and align the prediction\n",
        "# This reinforces the Recap topic: formatted strings\n",
        "print(f\"{future_year}\\t\\tFuture Event: {future_event} will happen in {future_year}.\")\n"
      ]
    }
  ]
}