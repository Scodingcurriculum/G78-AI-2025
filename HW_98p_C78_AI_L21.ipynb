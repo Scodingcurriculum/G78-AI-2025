{
  "nbformat": 4,
  "nbformat_minor": 0,
  "metadata": {
    "colab": {
      "provenance": [],
      "include_colab_link": true
    },
    "kernelspec": {
      "name": "python3",
      "display_name": "Python 3"
    },
    "language_info": {
      "name": "python"
    }
  },
  "cells": [
    {
      "cell_type": "markdown",
      "metadata": {
        "id": "view-in-github",
        "colab_type": "text"
      },
      "source": [
        "<a href=\"https://colab.research.google.com/github/Scodingcurriculum/G78-AI-2025/blob/main/HW_98p_C78_AI_L21.ipynb\" target=\"_parent\"><img src=\"https://colab.research.google.com/assets/colab-badge.svg\" alt=\"Open In Colab\"/></a>"
      ]
    },
    {
      "cell_type": "code",
      "execution_count": null,
      "metadata": {
        "id": "56QdAys2LdMW"
      },
      "outputs": [],
      "source": [
        "# ============================================================================\n",
        "# Lesson 21 Homework: TF-IDF Vectorization Explorer\n",
        "# Description:\n",
        "#   Enter several short sentences, build a TF-IDF vectorizer, and explore document features.\n",
        "# AI Justification:\n",
        "#   Converts text into numeric form so AI models can “understand” and compare documents.\n",
        "# ----------------------------------------------------------------------------\n",
        "# Steps for students:\n",
        "#  1. Decide how many sentences to input (recommend 4–6).\n",
        "#  2. Enter each sentence when prompted.\n",
        "#  3. Observe the full TF-IDF matrix printed row by row.\n",
        "#  4. Review the list of all feature (term) names.\n",
        "#  5. For each document, identify its top 3 weighted terms.\n",
        "# ============================================================================\n",
        "\n",
        "from sklearn.feature_extraction.text import TfidfVectorizer\n",
        "\n",
        "print(\"\\n=== Lesson 21: TF-IDF Vectorization Explorer ===\\n\")\n",
        "\n",
        "# 1) How many sentences?\n",
        "n = int(input(\"How many sentences will you analyze? (e.g., 5): \").strip())\n",
        "\n",
        "# 2) Collect sentences\n",
        "docs = []\n",
        "for i in range(1, n+1):\n",
        "    txt = input(f\"Enter sentence #{i}: \").strip()\n",
        "    docs.append(txt)\n",
        "print(\"\\nThank you! Building TF-IDF vectorizer...\\n\")\n",
        "\n",
        "# 3) Fit the vectorizer\n",
        "vectorizer = TfidfVectorizer()\n",
        "tfidf_matrix = vectorizer.fit_transform(docs)\n",
        "\n",
        "# 4) Display the TF-IDF matrix\n",
        "print(\"TF-IDF Matrix (rows = sentences, columns = features):\")\n",
        "dense = tfidf_matrix.toarray()\n",
        "for idx, row in enumerate(dense, start=1):\n",
        "    formatted = [\"{:.2f}\".format(v) for v in row]\n",
        "    print(f\"Sentence {idx} → {formatted}\")\n",
        "print()\n",
        "\n",
        "# 5) Show feature names\n",
        "features = vectorizer.get_feature_names_out()\n",
        "print(f\"Total features (unique terms): {len(features)}\")\n",
        "print(\"Feature names:\")\n",
        "for f in features:\n",
        "    print(f\" • {f}\")\n",
        "print()\n",
        "\n",
        "# 6) Identify top 3 terms per document\n",
        "print(\"Top 3 terms by TF-IDF weight in each sentence:\")\n",
        "for idx, row in enumerate(dense, start=1):\n",
        "    # sort indices by weight descending\n",
        "    sorted_idxs = sorted(range(len(row)), key=lambda j: row[j], reverse=True)\n",
        "    top3 = sorted_idxs[:3]\n",
        "    print(f\"\\n Sentence {idx}:\")\n",
        "    for rank, j in enumerate(top3, start=1):\n",
        "        term = features[j]\n",
        "        weight = row[j]\n",
        "        print(f\"   {rank}. {term} (weight = {weight:.2f})\")\n",
        "print(\"\\n[AI Insight] TF-IDF highlights the most “important” words per document.\")\n"
      ]
    }
  ]
}