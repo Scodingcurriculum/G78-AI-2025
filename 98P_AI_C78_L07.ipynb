{
  "nbformat": 4,
  "nbformat_minor": 0,
  "metadata": {
    "colab": {
      "provenance": [],
      "include_colab_link": true
    },
    "kernelspec": {
      "name": "python3",
      "display_name": "Python 3"
    },
    "language_info": {
      "name": "python"
    }
  },
  "cells": [
    {
      "cell_type": "markdown",
      "metadata": {
        "id": "view-in-github",
        "colab_type": "text"
      },
      "source": [
        "<a href=\"https://colab.research.google.com/github/Scodingcurriculum/G78-AI-2025/blob/main/98P_AI_C78_L07.ipynb\" target=\"_parent\"><img src=\"https://colab.research.google.com/assets/colab-badge.svg\" alt=\"Open In Colab\"/></a>"
      ]
    },
    {
      "cell_type": "code",
      "execution_count": null,
      "metadata": {
        "id": "1oA7iw6osPhX",
        "colab": {
          "base_uri": "https://localhost:8080/"
        },
        "outputId": "415542c8-1e63-40f9-eed4-47eb2e173f8b"
      },
      "outputs": [
        {
          "output_type": "stream",
          "name": "stdout",
          "text": [
            "📊 Welcome to the AI Text Analyzer!\n",
            "Enter a paragraph, and I'll show you how often each word appears.\n",
            "\n",
            "👉 Please enter your paragraph:\n",
            "> this is india and we are loving it\n",
            "\n",
            "🔎 Enter minimum word length to include (e.g., 3): 3\n",
            "\n",
            "🚫 Ignored words shorter than 3 characters:\n",
            " • 'is': skipped 1 time(s)\n",
            " • 'we': skipped 1 time(s)\n",
            " • 'it': skipped 1 time(s)\n",
            "\n",
            "📈 Word Frequency (words ≥ 3 letters):\n",
            "----------------------------------------\n",
            "this            → 1 time(s)\n",
            "india           → 1 time(s)\n",
            "and             → 1 time(s)\n",
            "are             → 1 time(s)\n",
            "loving          → 1 time(s)\n",
            "\n",
            "✅ You practiced:\n",
            "- String methods: .lower(), .translate(), .split()\n",
            "- Loops and conditional checks inside dictionary logic\n",
            "- Dictionary updates for counting frequencies\n",
            "- Building and reporting a skip-frequency dictionary\n",
            "- Sorting dictionary items before display\n",
            "==================================================\n"
          ]
        }
      ],
      "source": [
        "# =====================================\n",
        "# Lesson 7: AI Text Analyzer\n",
        "# =====================================\n",
        "\n",
        "# 🧠 AI Concept:\n",
        "# Simulates how AI systems perform basic NLP by tokenizing text\n",
        "# and counting word frequencies to reveal patterns in language.\n",
        "\n",
        "import string  # For punctuation removal\n",
        "\n",
        "# =========================\n",
        "# Section 1: Introduction\n",
        "# =========================\n",
        "print(\"📊 Welcome to the AI Text Analyzer!\")\n",
        "print(\"Enter a paragraph, and I'll show you how often each word appears.\\n\")\n",
        "\n",
        "# =========================\n",
        "# Section 2: Input & Preprocessing\n",
        "# =========================\n",
        "paragraph = input(\"👉 Please enter your paragraph:\\n> \").strip()\n",
        "paragraph_lower = paragraph.lower()  # Uniform lowercase\n",
        "\n",
        "# Remove punctuation\n",
        "translator = str.maketrans('', '', string.punctuation)\n",
        "clean_paragraph = paragraph_lower.translate(translator)\n",
        "\n",
        "# =========================\n",
        "# Section 3: Tokenization\n",
        "# =========================\n",
        "words = clean_paragraph.split()  # Split into word tokens\n",
        "\n",
        "# =========================\n",
        "# Section 4: Additional Activity\n",
        "#   Minimum Word Length Filter\n",
        "# =========================\n",
        "\n",
        "# Ask user for the minimum word length (Recap: using variables & input)\n",
        "min_length = int(input(\"\\n🔎 Enter minimum word length to include (e.g., 3): \").strip())\n",
        "\n",
        "# Prepare to track ignored short words\n",
        "short_words = []\n",
        "\n",
        "# =========================\n",
        "# Section 5: Count with Filter\n",
        "# =========================\n",
        "word_freq = {}  # Dictionary to hold filtered word counts\n",
        "\n",
        "for word in words:\n",
        "    # (Additional Activity) Ignore words shorter than min_length\n",
        "    if len(word) < min_length:\n",
        "        short_words.append(word)  # Track skipped words for reporting\n",
        "        continue                 # Skip this word in frequency counting\n",
        "\n",
        "    # Core logic: update dictionary counts\n",
        "    if word in word_freq:\n",
        "        word_freq[word] += 1\n",
        "    else:\n",
        "        word_freq[word] = 1\n",
        "\n",
        "# =========================\n",
        "# Section 6: Display Results\n",
        "# =========================\n",
        "\n",
        "# 6a) Report on ignored short words\n",
        "print(f\"\\n🚫 Ignored words shorter than {min_length} characters:\")\n",
        "if short_words:\n",
        "    skip_freq = {}\n",
        "    for w in short_words:\n",
        "        # (Additional Activity) Build skip-frequency for reporting\n",
        "        skip_freq[w] = skip_freq.get(w, 0) + 1\n",
        "    for w, count in skip_freq.items():\n",
        "        print(f\" • '{w}': skipped {count} time(s)\")\n",
        "else:\n",
        "    print(\" • None — all words met the length requirement.\")\n",
        "\n",
        "# 6b) Display filtered word frequencies\n",
        "print(f\"\\n📈 Word Frequency (words ≥ {min_length} letters):\")\n",
        "print(\"-\" * 40)\n",
        "for word, freq in sorted(word_freq.items(), key=lambda x: x[1], reverse=True):\n",
        "    print(f\"{word:15} → {freq} time(s)\")\n",
        "\n",
        "# =========================\n",
        "# Section 7: Recap of Concepts Used\n",
        "# =========================\n",
        "print(\"\\n✅ You practiced:\")\n",
        "print(\"- String methods: .lower(), .translate(), .split()\")\n",
        "print(\"- Loops and conditional checks inside dictionary logic\")\n",
        "print(\"- Dictionary updates for counting frequencies\")\n",
        "print(\"- Building and reporting a skip-frequency dictionary\")\n",
        "print(\"- Sorting dictionary items before display\")\n",
        "print(\"=\" * 50)\n"
      ]
    }
  ]
}