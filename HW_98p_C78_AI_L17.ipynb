{
  "nbformat": 4,
  "nbformat_minor": 0,
  "metadata": {
    "colab": {
      "provenance": [],
      "include_colab_link": true
    },
    "kernelspec": {
      "name": "python3",
      "display_name": "Python 3"
    },
    "language_info": {
      "name": "python"
    }
  },
  "cells": [
    {
      "cell_type": "markdown",
      "metadata": {
        "id": "view-in-github",
        "colab_type": "text"
      },
      "source": [
        "<a href=\"https://colab.research.google.com/github/Scodingcurriculum/G78-AI-2025/blob/main/HW_98p_C78_AI_L17.ipynb\" target=\"_parent\"><img src=\"https://colab.research.google.com/assets/colab-badge.svg\" alt=\"Open In Colab\"/></a>"
      ]
    },
    {
      "cell_type": "code",
      "execution_count": null,
      "metadata": {
        "id": "yDNLtChFKppL"
      },
      "outputs": [],
      "source": [
        "# ============================================================================\n",
        "# Lesson 17 Homework: Data Splitting\n",
        "# Description:\n",
        "#   Load a CSV into a pandas DataFrame, split into train/test sets,\n",
        "#   save each to disk, and verify label coverage.\n",
        "# AI Justification:\n",
        "#   Shows how AI avoids overfitting by training and testing on separate data.\n",
        "# ----------------------------------------------------------------------------\n",
        "# Steps:\n",
        "# 1. Enter CSV filepath and label column name.\n",
        "# 2. Specify test fraction (e.g., 0.2 for 20% test data).\n",
        "# 3. The script slices the DataFrame into train/test.\n",
        "# 4. Saves train.csv and test.csv, then confirms all labels appear in both.\n",
        "# ============================================================================\n",
        "\n",
        "import pandas as pd  # For DataFrame operations\n",
        "\n",
        "# 1) User inputs\n",
        "file_path   = input(\"CSV filepath: \").strip()\n",
        "label_col   = input(\"Name of the label column: \").strip()\n",
        "test_frac   = float(input(\"Test set fraction (0.0–1.0): \").strip())\n",
        "\n",
        "# 2) Load data\n",
        "df = pd.read_csv(file_path)\n",
        "print(f\"Loaded dataset with {len(df)} rows and columns: {list(df.columns)}\")\n",
        "\n",
        "# 3) Compute split index\n",
        "split_idx = int(len(df) * (1 - test_frac))\n",
        "\n",
        "# 4) Slice into train and test\n",
        "train_df = df.iloc[:split_idx]\n",
        "test_df  = df.iloc[split_idx:]\n",
        "\n",
        "# 5) Save to CSV\n",
        "train_df.to_csv(\"train.csv\", index=False)\n",
        "test_df.to_csv(\"test.csv\", index=False)\n",
        "print(\"Saved 'train.csv' and 'test.csv' successfully.\")\n",
        "\n",
        "# 6) Verify label coverage\n",
        "train_labels = set(train_df[label_col])\n",
        "test_labels  = set(test_df[label_col])\n",
        "print(f\"\\nUnique labels in train set: {train_labels}\")\n",
        "print(f\"Unique labels in test set:  {test_labels}\")\n",
        "\n",
        "missing_in_test  = train_labels - test_labels\n",
        "missing_in_train = test_labels - train_labels\n",
        "if not missing_in_test and not missing_in_train:\n",
        "    print(\"\\n✅ All labels are present in both sets.\")\n",
        "else:\n",
        "    if missing_in_test:\n",
        "        print(f\"⚠️ Labels missing in test set:  {missing_in_test}\")\n",
        "    if missing_in_train:\n",
        "        print(f\"⚠️ Labels missing in train set: {missing_in_train}\")\n",
        "\n",
        "print(\"\\n[AI Insight] Proper splitting ensures AI models generalize beyond training data.\")\n"
      ]
    }
  ]
}