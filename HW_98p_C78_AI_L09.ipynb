{
  "nbformat": 4,
  "nbformat_minor": 0,
  "metadata": {
    "colab": {
      "provenance": [],
      "include_colab_link": true
    },
    "kernelspec": {
      "name": "python3",
      "display_name": "Python 3"
    },
    "language_info": {
      "name": "python"
    }
  },
  "cells": [
    {
      "cell_type": "markdown",
      "metadata": {
        "id": "view-in-github",
        "colab_type": "text"
      },
      "source": [
        "<a href=\"https://colab.research.google.com/github/Scodingcurriculum/G78-AI-2025/blob/main/HW_98p_C78_AI_L09.ipynb\" target=\"_parent\"><img src=\"https://colab.research.google.com/assets/colab-badge.svg\" alt=\"Open In Colab\"/></a>"
      ]
    },
    {
      "cell_type": "code",
      "execution_count": null,
      "metadata": {
        "id": "ymDKYoNxI8-u"
      },
      "outputs": [],
      "source": [
        "# ============================================================================\n",
        "# Lesson 9 Homework: AI Data Reader\n",
        "# Description:\n",
        "#   Input student names and marks; determine and display the topper.\n",
        "# AI Justification:\n",
        "#   Shows how AI systems identify key insights (top performer) from raw data.\n",
        "# ----------------------------------------------------------------------------\n",
        "# Instructions:\n",
        "# 1. Enter the number of students.\n",
        "# 2. Input each student’s name and mark.\n",
        "# 3. Program will find and display the student with highest mark.\n",
        "# ============================================================================\n",
        "\n",
        "print(\"=== AI Student Topper Finder ===\\n\")\n",
        "\n",
        "# 1. Get number of students\n",
        "num_str = input(\"How many students are there? \").strip()\n",
        "num_students = int(num_str)\n",
        "\n",
        "# 2. Read student data\n",
        "student_data = {}  # Dictionary: name → mark\n",
        "for i in range(1, num_students + 1):\n",
        "    name = input(f\"Enter name of student {i}: \").strip().title()\n",
        "    mark_str = input(f\"Enter mark of {name} (0–100): \").strip()\n",
        "    mark = int(mark_str)\n",
        "    student_data[name] = mark\n",
        "    print()\n",
        "\n",
        "# 3. Determine topper\n",
        "topper = None\n",
        "top_mark = -1\n",
        "for student, mark in student_data.items():\n",
        "    if mark > top_mark:\n",
        "        top_mark = mark\n",
        "        topper = student\n",
        "\n",
        "# 4. Display result\n",
        "print(\"=== Topper Announcement ===\")\n",
        "print(f\"🥇 Congratulations to {topper} for topping the class with {top_mark} marks!\")\n",
        "print(\"\\n[AI Insight] Extracting maximum values is a key data-mining step in AI analysis.\")\n"
      ]
    }
  ]
}