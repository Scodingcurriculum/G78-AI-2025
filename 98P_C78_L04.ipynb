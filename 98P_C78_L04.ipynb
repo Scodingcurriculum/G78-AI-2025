{
  "nbformat": 4,
  "nbformat_minor": 0,
  "metadata": {
    "colab": {
      "provenance": [],
      "include_colab_link": true
    },
    "kernelspec": {
      "name": "python3",
      "display_name": "Python 3"
    },
    "language_info": {
      "name": "python"
    }
  },
  "cells": [
    {
      "cell_type": "markdown",
      "metadata": {
        "id": "view-in-github",
        "colab_type": "text"
      },
      "source": [
        "<a href=\"https://colab.research.google.com/github/Scodingcurriculum/G78-AI-2025/blob/main/98P_C78_L04.ipynb\" target=\"_parent\"><img src=\"https://colab.research.google.com/assets/colab-badge.svg\" alt=\"Open In Colab\"/></a>"
      ]
    },
    {
      "cell_type": "code",
      "execution_count": null,
      "metadata": {
        "id": "HZL6yPPvpvtm"
      },
      "outputs": [],
      "source": [
        "# =====================================\n",
        "# Lesson 4: AI Weather Advisor\n",
        "# =====================================\n",
        "\n",
        "# 🧠 AI Concept:\n",
        "# This program simulates how AI assistants give recommendations based on\n",
        "# temperature, weather conditions, and now wind speed—a form of\n",
        "# context-aware AI that adapts its advice to multiple inputs.\n",
        "\n",
        "# =========================\n",
        "# Section 1: Define a Function to Give Advice\n",
        "# =========================\n",
        "\n",
        "def get_weather_advice(temp_c, condition, wind_kmh):\n",
        "    \"\"\"\n",
        "    Return a suggestion string based on:\n",
        "      - temp_c    (int): current temperature in °C\n",
        "      - condition (str): weather condition (\"sunny\", \"rainy\", \"cold\")\n",
        "      - wind_kmh  (int): current wind speed in km/h\n",
        "    Uses if-elif-else logic to decide which message to return.\n",
        "    \"\"\"\n",
        "    # 1. Wind check (additional activity)\n",
        "    if wind_kmh > 20:\n",
        "        return \"🌬️ It's too windy for cycling or outdoor sports!\"\n",
        "\n",
        "    # 2. Temperature + condition checks\n",
        "    if temp_c >= 30 and condition == \"sunny\":\n",
        "        return \"😎 Wear light clothes and stay hydrated!\"\n",
        "    elif temp_c <= 10 and condition == \"cold\":\n",
        "        return \"🧥 Wear a warm coat and stay cozy!\"\n",
        "    elif condition == \"rainy\":\n",
        "        return \"🌧️ Carry an umbrella and wear waterproof shoes!\"\n",
        "    else:\n",
        "        return \"🙂 Enjoy your day! Dress comfortably.\"\n",
        "\n",
        "# =========================\n",
        "# Section 2: Collect User Input\n",
        "# =========================\n",
        "\n",
        "print(\"🌤️ Welcome to the AI Weather Advisor\\n\")\n",
        "\n",
        "# Prompt for temperature\n",
        "temperature = int(input(\"Enter the current temperature in °C: \").strip())\n",
        "\n",
        "# Prompt for weather condition\n",
        "weather = input(\"Enter the weather condition (sunny/rainy/cold): \").strip().lower()\n",
        "\n",
        "# Additional activity: Prompt for wind speed\n",
        "wind_speed = int(input(\"Enter the wind speed in km/h: \").strip())\n",
        "\n",
        "# =========================\n",
        "# Section 3: Use the Function and Show Output\n",
        "# =========================\n",
        "\n",
        "suggestion = get_weather_advice(temperature, weather, wind_speed)\n",
        "# Display the AI-generated suggestion\n",
        "print(f\"\\nAI Suggestion: {suggestion}\")\n",
        "\n",
        "# =========================\n",
        "# Final Recap of Concepts Used\n",
        "# =========================\n",
        "\n",
        "print(\"\\n✅ You practiced:\")\n",
        "print(\"- Defining and calling a function with multiple parameters\")\n",
        "print(\"- Passing arguments (temperature, condition, wind speed)\")\n",
        "print(\"- if-elif-else logic for decision-making\")\n",
        "print(\"- print() and f-strings for formatted output\")\n",
        "print(\"=\" * 50)\n"
      ]
    }
  ]
}