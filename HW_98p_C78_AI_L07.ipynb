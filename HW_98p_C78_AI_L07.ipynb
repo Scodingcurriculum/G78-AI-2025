{
  "nbformat": 4,
  "nbformat_minor": 0,
  "metadata": {
    "colab": {
      "provenance": [],
      "include_colab_link": true
    },
    "kernelspec": {
      "name": "python3",
      "display_name": "Python 3"
    },
    "language_info": {
      "name": "python"
    }
  },
  "cells": [
    {
      "cell_type": "markdown",
      "metadata": {
        "id": "view-in-github",
        "colab_type": "text"
      },
      "source": [
        "<a href=\"https://colab.research.google.com/github/Scodingcurriculum/G78-AI-2025/blob/main/HW_98p_C78_AI_L07.ipynb\" target=\"_parent\"><img src=\"https://colab.research.google.com/assets/colab-badge.svg\" alt=\"Open In Colab\"/></a>"
      ]
    },
    {
      "cell_type": "code",
      "execution_count": null,
      "metadata": {
        "id": "Pp8R4tcdIjLc"
      },
      "outputs": [],
      "source": [
        "# ============================================================================\n",
        "# Lesson 7 Homework: AI Text Analyzer\n",
        "# Description:\n",
        "#   Take a sentence as input, count unique words, and find the longest word.\n",
        "# AI Justification:\n",
        "#   Demonstrates how AI processes language data with loops and string operations.\n",
        "# ----------------------------------------------------------------------------\n",
        "# Instructions:\n",
        "# 1. Enter a sentence of at least 10 words.\n",
        "# 2. The program will show how many unique words you used.\n",
        "# 3. It will also display which word is the longest.\n",
        "# 4. Observe how loops and conditions work together.\n",
        "# ============================================================================\n",
        "\n",
        "# 1. Read input sentence\n",
        "sentence = input(\"Enter a sentence with at least 10 words: \").strip()\n",
        "\n",
        "# 2. Normalize and split into words\n",
        "# Remove punctuation so words are clean\n",
        "for ch in [\".\", \",\", \"!\", \"?\", \":\", \";\"]:\n",
        "    sentence = sentence.replace(ch, \"\")\n",
        "words = sentence.lower().split()\n",
        "\n",
        "# 3. Build list of unique words\n",
        "unique_words = []\n",
        "for w in words:\n",
        "    if w not in unique_words:\n",
        "        unique_words.append(w)\n",
        "\n",
        "# 4. Find the longest word\n",
        "longest = \"\"\n",
        "for w in unique_words:\n",
        "    if len(w) > len(longest):\n",
        "        longest = w\n",
        "\n",
        "# 5. Display results\n",
        "print(\"\\n=== Text Analysis Results ===\")\n",
        "print(f\"Total words entered: {len(words)}\")\n",
        "print(f\"Unique words count: {len(unique_words)}\")\n",
        "print(\"List of unique words:\")\n",
        "for uw in unique_words:\n",
        "    print(f\" - {uw}\")\n",
        "print(f\"\\nThe longest unique word is: '{longest}' ({len(longest)} letters).\")\n",
        "print(\"\\n[AI Insight] AI text analyzers compute such metrics to gauge vocabulary richness and text complexity.\")\n"
      ]
    }
  ]
}