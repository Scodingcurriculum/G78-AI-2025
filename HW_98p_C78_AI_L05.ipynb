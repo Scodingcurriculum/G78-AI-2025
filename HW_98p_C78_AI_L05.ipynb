{
  "nbformat": 4,
  "nbformat_minor": 0,
  "metadata": {
    "colab": {
      "provenance": [],
      "include_colab_link": true
    },
    "kernelspec": {
      "name": "python3",
      "display_name": "Python 3"
    },
    "language_info": {
      "name": "python"
    }
  },
  "cells": [
    {
      "cell_type": "markdown",
      "metadata": {
        "id": "view-in-github",
        "colab_type": "text"
      },
      "source": [
        "<a href=\"https://colab.research.google.com/github/Scodingcurriculum/G78-AI-2025/blob/main/HW_98p_C78_AI_L05.ipynb\" target=\"_parent\"><img src=\"https://colab.research.google.com/assets/colab-badge.svg\" alt=\"Open In Colab\"/></a>"
      ]
    },
    {
      "cell_type": "code",
      "execution_count": null,
      "metadata": {
        "id": "oL2Sun3pHvYg"
      },
      "outputs": [],
      "source": [
        "# ============================================================================\n",
        "# Lesson 5 Homework: AI Math Pattern Detector\n",
        "# Description:\n",
        "#   Perform + or – five times and count how many results are even.\n",
        "# AI Justification:\n",
        "#   Illustrates simple pattern recognition (evenness) used in AI analytics.\n",
        "# ----------------------------------------------------------------------------\n",
        "# Instructions for students:\n",
        "# 1. Follow comments to see how loops and conditionals work together.\n",
        "# 2. Experiment with different operations.\n",
        "# 3. Try edge cases (e.g., zero or negative numbers).\n",
        "# ============================================================================\n",
        "\n",
        "# === Choose operation ===\n",
        "op = \"\"\n",
        "while op not in (\"+\", \"-\"):\n",
        "    op = input(\"Select operation (+ or -): \").strip()\n",
        "    if op not in (\"+\", \"-\"):\n",
        "        print(\"  ⚠️  Invalid. Please type + or -.\")\n",
        "\n",
        "# === Initialize counter ===\n",
        "even_count = 0  # Will track how many results are even\n",
        "\n",
        "# === Repeat calculation 5 times ===\n",
        "for i in range(1, 6):\n",
        "    print(f\"\\n-- Calculation {i} of 5 --\")\n",
        "    num1 = int(input(\"Enter first integer: \"))\n",
        "    num2 = int(input(\"Enter second integer: \"))\n",
        "\n",
        "    # Perform the chosen operation\n",
        "    if op == \"+\":\n",
        "        result = num1 + num2\n",
        "    else:\n",
        "        result = num1 - num2\n",
        "\n",
        "    print(f\"Result of {num1} {op} {num2} = {result}\")\n",
        "\n",
        "    # Check for evenness (pattern detection)\n",
        "    if result % 2 == 0:\n",
        "        print(\"  → This result is even!\")\n",
        "        even_count += 1\n",
        "    else:\n",
        "        print(\"  → This result is odd.\")\n",
        "\n",
        "# === Summary ===\n",
        "print(\"\\n=== AI Pattern Summary ===\")\n",
        "print(f\"Out of 5 results, {even_count} were even numbers.\")\n",
        "print(\"[AI Insight] Spotting even numbers is a basic example of pattern recognition by AI.\")\n"
      ]
    }
  ]
}