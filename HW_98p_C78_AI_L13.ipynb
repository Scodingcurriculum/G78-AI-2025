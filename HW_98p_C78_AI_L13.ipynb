{
  "nbformat": 4,
  "nbformat_minor": 0,
  "metadata": {
    "colab": {
      "provenance": [],
      "include_colab_link": true
    },
    "kernelspec": {
      "name": "python3",
      "display_name": "Python 3"
    },
    "language_info": {
      "name": "python"
    }
  },
  "cells": [
    {
      "cell_type": "markdown",
      "metadata": {
        "id": "view-in-github",
        "colab_type": "text"
      },
      "source": [
        "<a href=\"https://colab.research.google.com/github/Scodingcurriculum/G78-AI-2025/blob/main/HW_98p_C78_AI_L13.ipynb\" target=\"_parent\"><img src=\"https://colab.research.google.com/assets/colab-badge.svg\" alt=\"Open In Colab\"/></a>"
      ]
    },
    {
      "cell_type": "code",
      "execution_count": null,
      "metadata": {
        "id": "6HCHLgorJzez"
      },
      "outputs": [],
      "source": [
        "# ============================================================================\n",
        "# Lesson 13 Homework: Check If AI Libraries Are Installed\n",
        "# Description:\n",
        "#   This Python program checks if important AI libraries are installed.\n",
        "#   It prints “✅ Installed” or “❌ Not Installed” for each library.\n",
        "# AI Justification:\n",
        "#   AI systems check if tools like pandas, scikit-learn, matplotlib, and tkinter\n",
        "#   are installed before doing any work. This program mimics that smart check!\n",
        "# ----------------------------------------------------------------------------\n",
        "# Instructions for students:\n",
        "# 1. Run this program in VS Code.\n",
        "# 2. It will check four important libraries.\n",
        "# 3. Read the result messages printed on the screen.\n",
        "# 4. Ask your teacher if any of the libraries are ❌ Not Installed.\n",
        "# ============================================================================\n",
        "\n",
        "# Step 1: Show what the program will do\n",
        "print(\"🔍 Let's check if the important AI libraries are installed...\\n\")\n",
        "\n",
        "# Step 2: Check for 'pandas'\n",
        "try:\n",
        "    import pandas\n",
        "    print(\"✅ pandas is Installed\")\n",
        "except ImportError:\n",
        "    print(\"❌ pandas is Not Installed\")\n",
        "\n",
        "# Step 3: Check for 'scikit-learn'\n",
        "try:\n",
        "    import sklearn\n",
        "    print(\"✅ scikit-learn is Installed\")\n",
        "except ImportError:\n",
        "    print(\"❌ scikit-learn is Not Installed\")\n",
        "\n",
        "# Step 4: Check for 'matplotlib'\n",
        "try:\n",
        "    import matplotlib\n",
        "    print(\"✅ matplotlib is Installed\")\n",
        "except ImportError:\n",
        "    print(\"❌ matplotlib is Not Installed\")\n",
        "\n",
        "# Step 5: Check for 'tkinter'\n",
        "try:\n",
        "    import tkinter\n",
        "    print(\"✅ tkinter is Installed\")\n",
        "except ImportError:\n",
        "    print(\"❌ tkinter is Not Installed\")\n",
        "\n",
        "# Step 6: Wrap-up Message\n",
        "print(\"\\n🎉 Great Job!\")\n",
        "print(\"[AI Insight] Just like smart AI systems, you now know how to check if the brain tools are ready!\")\n"
      ]
    }
  ]
}