{
  "nbformat": 4,
  "nbformat_minor": 0,
  "metadata": {
    "colab": {
      "provenance": [],
      "include_colab_link": true
    },
    "kernelspec": {
      "name": "python3",
      "display_name": "Python 3"
    },
    "language_info": {
      "name": "python"
    }
  },
  "cells": [
    {
      "cell_type": "markdown",
      "metadata": {
        "id": "view-in-github",
        "colab_type": "text"
      },
      "source": [
        "<a href=\"https://colab.research.google.com/github/Scodingcurriculum/G78-AI-2025/blob/main/HW_98p_C78_AI_L15.ipynb\" target=\"_parent\"><img src=\"https://colab.research.google.com/assets/colab-badge.svg\" alt=\"Open In Colab\"/></a>"
      ]
    },
    {
      "cell_type": "code",
      "execution_count": null,
      "metadata": {
        "id": "0BLAzCxQKRvy"
      },
      "outputs": [],
      "source": [
        "# ============================================================================\n",
        "# Lesson 15 Homework: Simple AI Chatbot\n",
        "# Description:\n",
        "#   Build a looped chatbot that replies based on keywords until user says 'bye'.\n",
        "# AI Justification:\n",
        "#   Demonstrates how AI conversational agents use loops and conditionals for dialog.\n",
        "# ----------------------------------------------------------------------------\n",
        "# Instructions for students:\n",
        "# 1. The bot listens for keywords: hello, weather, joke.\n",
        "# 2. Replies appropriately; any other input gets a default response.\n",
        "# 3. Typing 'bye' ends the chat.\n",
        "# ============================================================================\n",
        "\n",
        "print(\"=== Welcome to the Simple AI Chatbot ===\")\n",
        "print(\"Type 'bye' anytime to end the conversation.\\n\")\n",
        "\n",
        "while True:\n",
        "    user_input = input(\"You: \").strip().lower()\n",
        "    if user_input == \"bye\":\n",
        "        print(\"Bot: Goodbye! Have a great day.\")\n",
        "        break\n",
        "    elif \"hello\" in user_input or \"hi\" in user_input:\n",
        "        print(\"Bot: Hello there! How can I assist you today?\")\n",
        "    elif \"weather\" in user_input:\n",
        "        print(\"Bot: I’m not a weather station, but I hope it’s sunny where you are!\")\n",
        "    elif \"joke\" in user_input:\n",
        "        print(\"Bot: Why did the computer show up at work late? It had a hard drive!\")\n",
        "    else:\n",
        "        print(\"Bot: Sorry, I don’t understand. Could you rephrase?\")\n",
        "\n",
        "print(\"\\n[AI Insight] Chatbots rely on loops and conditionals to manage dialogue flow.\")\n"
      ]
    }
  ]
}